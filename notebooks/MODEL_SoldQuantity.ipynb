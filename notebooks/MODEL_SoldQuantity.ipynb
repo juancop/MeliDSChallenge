{
 "cells": [
  {
   "cell_type": "markdown",
   "metadata": {},
   "source": [
    "## 1. Resultados del Análisis Exploratorio \n",
    "En esta sección se discutirán los resultados del Análisis Exploratorio para el modelo de Cantidades Vendidas (*sold_quantity*). Se considera que con el conocimiento obtenido hasta el momento es posible identificar con una precisión adecuada cuándo un producto no ha vendido unidades (*sold_quantity = 0*). Sin embargo, poder discriminar entre el resto de categorías parece ser una tarea bastante complicada, por lo menos con la información recolectada hasta el momento. \n",
    "\n",
    "Por lo anterior se propone probar con dos modelos. \n",
    "\n",
    "- **Modelo 1:** Predicción de *sold_quantity* directamente\n",
    "- **Modelo 2:** Predicción de cinco categorías: 0 unidades vendidas, [1 - 4] unidades vendidas, [5 - 25], (25, 50], 50+ unidades vendidas.\n",
    "    - Este último podría utilizarse para predecir grupos sobre los cuáles utilizar un modelo específico. \n",
    "    \n",
    "Y se comparará directamente su desempeño con una predicción basada en la moda por años de antigüedad, corregida por:\n",
    "- **Tipo de comisión:** Diferente a *gold_pro* o *gold_special* > Predicción 0\n",
    "- **Condición del Producto:** Usado -> Predicción 0"
   ]
  },
  {
   "cell_type": "markdown",
   "metadata": {},
   "source": [
    "### 1.1 Selección de Variables para Modelamiento\n",
    "\n",
    "Gracias al Análisis Exploratorio, se identificaron que las variables que tenían más relación con la variable objetivo de cantidad vendida fueron: \n",
    "- **golden_categories**: Una variable indicadora que toma el valor de 1 si la comisión asociada al producto es *golden_pro* o *golden_special*. Toma el valor de 0 en caso contrario.\n",
    "- **is_new**: Una variable indicadora que toma el valor de 1 si el producto es nuevo o 0 si es usado.\n",
    "- **total_questions**: Cantidad de preguntas que tiene el producto.\n",
    "- **product_age**: Antigüedad del producto en meses.\n",
    "- **has_discount**: Variable que indica si el producto tiene un descuento (1) o no (0). \n",
    "- **updated_picture**: Variable que indica si el producto tiene una imagen actualizada (1) o no (0).\n",
    "\n",
    "A continuación construyen estas variables y se divide la muestra en conjuntos de entrenamiento (64%), validación (16%) y prueba (20%). "
   ]
  },
  {
   "cell_type": "markdown",
   "metadata": {},
   "source": [
    "## 2. Cargue de Información"
   ]
  },
  {
   "cell_type": "code",
   "execution_count": 4,
   "metadata": {},
   "outputs": [],
   "source": [
    "import os\n",
    "import pandas as pd\n",
    "from sklearn.metrics import f1_score\n",
    "from model import plot_confusion_matrix\n",
    "from sklearn.model_selection import train_test_split"
   ]
  },
  {
   "cell_type": "markdown",
   "metadata": {},
   "source": [
    "### 2.1 Creación de Features"
   ]
  },
  {
   "cell_type": "code",
   "execution_count": 16,
   "metadata": {},
   "outputs": [],
   "source": [
    "data_folder = '../data'\n",
    "data_by_category = [pd.read_csv(os.path.join(data_folder, file), sep = \";\") for file in os.listdir('../data') if file.find('.csv') != -1]\n",
    "complete_df = pd.concat(data_by_category, axis = 0, ignore_index=True)\n",
    "\n",
    "# Indicador de Categoría Dorada\n",
    "complete_df['golden_categories'] = 1*(complete_df.listing_type_id.isin(['gold_pro', 'gold_special']))\n",
    "\n",
    "# Indicador de Producto Nuevo\n",
    "complete_df['is_new'] = 1*(complete_df.condition=='new')\n",
    "\n",
    "# Antigüedad de Producto\n",
    "actual_year = 2020\n",
    "actual_month = 12\n",
    "complete_df['product_age'] = 12*(actual_year - complete_df.year_created) + (actual_month - complete_df.month_created) + 1\n",
    "\n",
    "# Indicador de descuento\n",
    "complete_df['has_discount'] = 1*(~complete_df.original_price.isnull())\n",
    "\n",
    "# Se crea una característica indicando si la foto fue actualizada\n",
    "complete_df.loc[(complete_df.year_update == complete_df.year_created) & (complete_df.month_update == complete_df.month_created), 'updated_picture'] = False\n",
    "complete_df.loc[(complete_df.year_update != complete_df.year_created) | (complete_df.month_update != complete_df.month_created), 'updated_picture'] = True"
   ]
  },
  {
   "cell_type": "markdown",
   "metadata": {},
   "source": [
    "### 2.2. Creación de Variable Objetivo para Modelo 2"
   ]
  },
  {
   "cell_type": "code",
   "execution_count": 17,
   "metadata": {},
   "outputs": [],
   "source": [
    "complete_df.loc[complete_df.sold_quantity == 0, 'sold_group'] = 0   # 0\n",
    "complete_df.loc[complete_df.sold_quantity >= 1, 'sold_group'] = 1   # De [1, 4]\n",
    "complete_df.loc[complete_df.sold_quantity == 5, 'sold_group'] = 5   # De [5, 25]\n",
    "complete_df.loc[complete_df.sold_quantity >= 25, 'sold_group'] = 25 # De [26 - 50)\n",
    "complete_df.loc[complete_df.sold_quantity >= 50, 'sold_group'] = 50 # De 50 +"
   ]
  },
  {
   "cell_type": "code",
   "execution_count": 20,
   "metadata": {},
   "outputs": [],
   "source": [
    "features = ['golden_categories', 'is_new','total_questions', 'product_age', 'has_discount' , 'updated_picture']\n",
    "\n",
    "target_1 = ['sold_quantity']\n",
    "target_2 = ['sold_group']"
   ]
  },
  {
   "cell_type": "markdown",
   "metadata": {},
   "source": [
    "## 3. Modelamiento\n",
    "\n",
    "### 3.1 Modelo de Categoría Vendida"
   ]
  },
  {
   "cell_type": "code",
   "execution_count": 22,
   "metadata": {},
   "outputs": [],
   "source": [
    "X = complete_df[features].copy()\n",
    "y = complete_df[target_1].astype('int64').copy()\n",
    "\n",
    "#X.product_age.fillna(X.product_age.median(), inplace=True)\n",
    "X.total_questions.fillna(0, inplace=True)"
   ]
  },
  {
   "cell_type": "code",
   "execution_count": 24,
   "metadata": {},
   "outputs": [],
   "source": [
    "X_train_val, X_test, y_train_val, y_test = train_test_split(X, y, test_size=0.2, random_state=42)"
   ]
  },
  {
   "cell_type": "code",
   "execution_count": 26,
   "metadata": {},
   "outputs": [],
   "source": [
    "X_train, X_val, y_train, y_val = train_test_split(X_train_val, y_train_val, test_size=0.2, random_state=42)"
   ]
  },
  {
   "cell_type": "code",
   "execution_count": null,
   "metadata": {},
   "outputs": [],
   "source": []
  },
  {
   "cell_type": "markdown",
   "metadata": {},
   "source": [
    "### 3.2 Modelo Grupos de Categoría"
   ]
  },
  {
   "cell_type": "code",
   "execution_count": 30,
   "metadata": {},
   "outputs": [],
   "source": [
    "X = complete_df[features].copy()\n",
    "y = complete_df[target_2].astype('int64').copy()\n",
    "\n",
    "#X.product_age.fillna(X.product_age.median(), inplace=True)\n",
    "X.total_questions.fillna(0, inplace=True)"
   ]
  },
  {
   "cell_type": "code",
   "execution_count": null,
   "metadata": {},
   "outputs": [],
   "source": [
    "X_train_val, X_test, y_train_val, y_test = train_test_split(X, y, test_size=0.2, random_state=42)"
   ]
  },
  {
   "cell_type": "code",
   "execution_count": null,
   "metadata": {},
   "outputs": [],
   "source": [
    "X_train, X_val, y_train, y_val = train_test_split(X_train_val, y_train_val, test_size=0.2, random_state=42)"
   ]
  }
 ],
 "metadata": {
  "kernelspec": {
   "display_name": "Python 3",
   "language": "python",
   "name": "python3"
  },
  "language_info": {
   "codemirror_mode": {
    "name": "ipython",
    "version": 3
   },
   "file_extension": ".py",
   "mimetype": "text/x-python",
   "name": "python",
   "nbconvert_exporter": "python",
   "pygments_lexer": "ipython3",
   "version": "3.8.5"
  }
 },
 "nbformat": 4,
 "nbformat_minor": 4
}
