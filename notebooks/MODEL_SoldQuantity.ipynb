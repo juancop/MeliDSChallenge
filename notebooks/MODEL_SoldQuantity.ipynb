{
 "cells": [
  {
   "cell_type": "markdown",
   "metadata": {},
   "source": [
    "## 1. Resultados del Análisis Exploratorio \n",
    "En esta sección se discutirán los resultados del Análisis Exploratorio para el modelo de Cantidades Vendidas (*sold_quantity*). Se considera que con el conocimiento obtenido hasta el momento es posible identificar con una precisión adecuada cuándo un producto no ha vendido unidades (*sold_quantity = 0*). Sin embargo, poder discriminar entre el resto de categorías parece ser una tarea bastante complicada, por lo menos con la información recolectada hasta el momento. \n",
    "\n",
    "Por lo anterior se propone probar con dos modelos. \n",
    "\n",
    "- **Modelo 1:** Predicción de *sold_quantity* directamente\n",
    "- **Modelo 2:** Predicción de cinco categorías: 0 unidades vendidas, [1 - 4] unidades vendidas, [5 - 25], (25, 50], 50+ unidades vendidas.\n",
    "    - Este último podría utilizarse para predecir grupos sobre los cuáles utilizar un modelo específico. \n",
    "    \n",
    "Y se comparará directamente su desempeño con una predicción basada en la moda por años de antigüedad, corregida por:\n",
    "- **Tipo de comisión:** Diferente a *gold_pro* o *gold_special* > Predicción 0\n",
    "- **Condición del Producto:** Usado -> Predicción 0\n",
    "\n",
    "Los modelos serán árboles boosteados (XGBoost), y por cuestiones de tiempo, sólo se hará una búsqueda del número óptimo de árboles de los modelos de clasificación."
   ]
  },
  {
   "cell_type": "markdown",
   "metadata": {},
   "source": [
    "### 1.1 Selección de Variables para Modelamiento\n",
    "\n",
    "Gracias al Análisis Exploratorio, se identificaron que las variables que tenían más relación con la variable objetivo de cantidad vendida fueron: \n",
    "- **golden_categories**: Una variable indicadora que toma el valor de 1 si la comisión asociada al producto es *golden_pro* o *golden_special*. Toma el valor de 0 en caso contrario.\n",
    "- **is_new**: Una variable indicadora que toma el valor de 1 si el producto es nuevo o 0 si es usado.\n",
    "- **total_questions**: Cantidad de preguntas que tiene el producto.\n",
    "- **product_age**: Antigüedad del producto en meses.\n",
    "- **has_discount**: Variable que indica si el producto tiene un descuento (1) o no (0). \n",
    "- **updated_picture**: Variable que indica si el producto tiene una imagen actualizada (1) o no (0).\n",
    "\n",
    "A continuación construyen estas variables y se divide la muestra en conjuntos de entrenamiento (64%), validación (16%) y prueba (20%). "
   ]
  },
  {
   "cell_type": "markdown",
   "metadata": {},
   "source": [
    "## 2. Cargue de Información"
   ]
  },
  {
   "cell_type": "code",
   "execution_count": 26,
   "metadata": {},
   "outputs": [],
   "source": [
    "import os\n",
    "import pandas as pd\n",
    "from sklearn.metrics import f1_score\n",
    "from model import plot_confusion_matrix, GridSearchXGBClassifier, benchmark\n",
    "from sklearn.model_selection import train_test_split\n",
    "import numpy as np"
   ]
  },
  {
   "cell_type": "markdown",
   "metadata": {},
   "source": [
    "### 2.1 Creación de Features"
   ]
  },
  {
   "cell_type": "code",
   "execution_count": 2,
   "metadata": {},
   "outputs": [],
   "source": [
    "data_folder = '../data'\n",
    "data_by_category = [pd.read_csv(os.path.join(data_folder, file), sep = \";\") for file in os.listdir('../data') if file.find('.csv') != -1]\n",
    "complete_df = pd.concat(data_by_category, axis = 0, ignore_index=True)\n",
    "\n",
    "# Indicador de Categoría Dorada\n",
    "complete_df['golden_categories'] = 1*(complete_df.listing_type_id.isin(['gold_pro', 'gold_special']))\n",
    "\n",
    "# Indicador de Producto Nuevo\n",
    "complete_df['is_new'] = 1*(complete_df.condition=='new')\n",
    "\n",
    "# Antigüedad de Producto\n",
    "actual_year = 2020\n",
    "actual_month = 12\n",
    "complete_df['product_age'] = 12*(actual_year - complete_df.year_created) + (actual_month - complete_df.month_created) + 1\n",
    "\n",
    "# Indicador de descuento\n",
    "complete_df['has_discount'] = 1*(~complete_df.original_price.isnull())\n",
    "\n",
    "# Se crea una característica indicando si la foto fue actualizada\n",
    "complete_df.loc[(complete_df.year_update == complete_df.year_created) & (complete_df.month_update == complete_df.month_created), 'updated_picture'] = 0\n",
    "complete_df.loc[(complete_df.year_update != complete_df.year_created) | (complete_df.month_update != complete_df.month_created), 'updated_picture'] = 1"
   ]
  },
  {
   "cell_type": "markdown",
   "metadata": {},
   "source": [
    "### 2.2. Creación de Variable Objetivo para Modelo 2"
   ]
  },
  {
   "cell_type": "code",
   "execution_count": 3,
   "metadata": {},
   "outputs": [],
   "source": [
    "complete_df.loc[complete_df.sold_quantity == 0, 'sold_group'] = 0   # 0\n",
    "complete_df.loc[complete_df.sold_quantity >= 1, 'sold_group'] = 1   # De [1, 4]\n",
    "complete_df.loc[complete_df.sold_quantity == 5, 'sold_group'] = 5   # De [5, 25]\n",
    "complete_df.loc[complete_df.sold_quantity >= 25, 'sold_group'] = 25 # De [26 - 50)\n",
    "complete_df.loc[complete_df.sold_quantity >= 50, 'sold_group'] = 50 # De 50 +"
   ]
  },
  {
   "cell_type": "code",
   "execution_count": null,
   "metadata": {},
   "outputs": [],
   "source": [
    "complete_df.sold_group.value_counts()/len(complete_df) "
   ]
  },
  {
   "cell_type": "markdown",
   "metadata": {},
   "source": [
    "Se puede apreciar que esta re-categorización vuelve el conjunto de datos más balanceado. Por lo que utilizar el acierto de clasificación (accuracy) no sería tan engañoso."
   ]
  },
  {
   "cell_type": "code",
   "execution_count": 4,
   "metadata": {},
   "outputs": [],
   "source": [
    "features = ['golden_categories', 'is_new','total_questions', 'product_age', 'has_discount' , 'updated_picture']\n",
    "target_1 = ['sold_quantity']\n",
    "target_2 = ['sold_group']"
   ]
  },
  {
   "cell_type": "markdown",
   "metadata": {},
   "source": [
    "## 3. Modelamiento\n",
    "\n",
    "### 3.1 Modelo de Categoría Vendida"
   ]
  },
  {
   "cell_type": "code",
   "execution_count": 5,
   "metadata": {},
   "outputs": [],
   "source": [
    "X = complete_df[features].copy()\n",
    "y = complete_df[target_1].astype('int64').copy()\n",
    "\n",
    "#X.product_age.fillna(X.product_age.median(), inplace=True)\n",
    "X.total_questions.fillna(0, inplace=True)"
   ]
  },
  {
   "cell_type": "code",
   "execution_count": 6,
   "metadata": {},
   "outputs": [],
   "source": [
    "X_train_val, X_test, y_train_val, y_test = train_test_split(X, y, test_size=0.2, random_state=42)"
   ]
  },
  {
   "cell_type": "code",
   "execution_count": 7,
   "metadata": {},
   "outputs": [],
   "source": [
    "X_train, X_val, y_train, y_val = train_test_split(X_train_val, y_train_val, test_size=0.2, random_state=42)"
   ]
  },
  {
   "cell_type": "code",
   "execution_count": 8,
   "metadata": {},
   "outputs": [
    {
     "name": "stdout",
     "output_type": "stream",
     "text": [
      "Number of Categories: 14\n"
     ]
    }
   ],
   "source": [
    "print(f'Number of Categories: {len(y_train.value_counts())}')"
   ]
  },
  {
   "cell_type": "markdown",
   "metadata": {},
   "source": [
    "#### 3.1.1 XGBoost Classifier"
   ]
  },
  {
   "cell_type": "code",
   "execution_count": 16,
   "metadata": {},
   "outputs": [
    {
     "name": "stdout",
     "output_type": "stream",
     "text": [
      "Fitting 1 folds for each of 1 candidates, totalling 1 fits\n"
     ]
    },
    {
     "name": "stderr",
     "output_type": "stream",
     "text": [
      "[Parallel(n_jobs=-1)]: Using backend LokyBackend with 4 concurrent workers.\n",
      "[Parallel(n_jobs=-1)]: Done   1 out of   1 | elapsed:   37.1s finished\n",
      "/opt/tljh/user/lib/python3.7/site-packages/sklearn/utils/validation.py:72: DataConversionWarning: A column-vector y was passed when a 1d array was expected. Please change the shape of y to (n_samples, ), for example using ravel().\n",
      "  return f(**kwargs)\n"
     ]
    },
    {
     "data": {
      "text/plain": [
       "GridSearchCV(cv=StratifiedShuffleSplit(n_splits=1, random_state=42, test_size=0.3,\n",
       "            train_size=None),\n",
       "             estimator=XGBClassifier(base_score=None, booster=None,\n",
       "                                     colsample_bylevel=None,\n",
       "                                     colsample_bynode=None,\n",
       "                                     colsample_bytree=None, gamma=None,\n",
       "                                     gpu_id=None, importance_type='gain',\n",
       "                                     interaction_constraints=None,\n",
       "                                     learning_rate=None, max_delta_step=None,\n",
       "                                     max_depth=None, min_...\n",
       "                                     missing=nan, monotone_constraints=None,\n",
       "                                     n_estimators=100, n_jobs=None,\n",
       "                                     num_class=14, num_parallel_tree=None,\n",
       "                                     objective='multi:softmax',\n",
       "                                     random_state=None, reg_alpha=None,\n",
       "                                     reg_lambda=None, scale_pos_weight=None,\n",
       "                                     subsample=None, tree_method=None,\n",
       "                                     validate_parameters=None, verbosity=None),\n",
       "             n_jobs=-1, param_grid=[{'n_estimators': range(50, 501, 500)}],\n",
       "             scoring='f1_macro', verbose=3)"
      ]
     },
     "execution_count": 16,
     "metadata": {},
     "output_type": "execute_result"
    }
   ],
   "source": [
    "Model_1 = GridSearchXGBClassifier(num_class = 14)\n",
    "Model_1.fit(X_train, y_train)"
   ]
  },
  {
   "cell_type": "markdown",
   "metadata": {},
   "source": [
    "#### 3.1.2 Benchmark para Cantidad Vendida"
   ]
  },
  {
   "cell_type": "code",
   "execution_count": 19,
   "metadata": {},
   "outputs": [],
   "source": [
    "benchmark_1 = benchmark()\n",
    "benchmark_1.fit(X_train, y_train)"
   ]
  },
  {
   "cell_type": "markdown",
   "metadata": {},
   "source": [
    "#### 3.1.3 Predicciones y Evaluación de Modelos"
   ]
  },
  {
   "cell_type": "code",
   "execution_count": 20,
   "metadata": {},
   "outputs": [],
   "source": [
    "# Predicciones en Validación y Test para el Modelo 1\n",
    "predictions_model_1_validation = Model_1.predict(X_val)\n",
    "f_1_model_1_validation = f1_score(predictions_model_1_validation, y_val.values, average = 'macro')\n",
    "\n",
    "predictions_model_1_test = Model_1.predict(X_test)\n",
    "f_1_model_1_test = f1_score(predictions_model_1_test, y_test.values, average = 'macro')"
   ]
  },
  {
   "cell_type": "code",
   "execution_count": 21,
   "metadata": {},
   "outputs": [],
   "source": [
    "# Predicciones en Validación y Test para Benchmark 1\n",
    "predictions_bench_1_validation = benchmark_1.predict(X_val)\n",
    "f_1_bench_1_validation = f1_score(predictions_bench_1_validation, y_val.values, average = 'macro')\n",
    "\n",
    "predictions_bench_1_test = benchmark_1.predict(X_test)\n",
    "f_1_bench_1_test = f1_score(predictions_bench_1_test, y_test.values, average = 'macro')"
   ]
  },
  {
   "cell_type": "code",
   "execution_count": 22,
   "metadata": {},
   "outputs": [
    {
     "name": "stdout",
     "output_type": "stream",
     "text": [
      "Resultados Validación: F1 Modelo 0.2171963562188411 vs. F1 Benchmark 0.08699147442574076\n",
      "Resultados Test: F1 Modelo 0.21374902117913736 vs F1 Benchmark 0.08712369419456757\n"
     ]
    }
   ],
   "source": [
    "print(f'Resultados Validación: F1 Modelo {f_1_model_1_validation} vs. F1 Benchmark {f_1_bench_1_validation}\\nResultados Test: F1 Modelo {f_1_model_1_test} vs F1 Benchmark {f_1_bench_1_test}')"
   ]
  },
  {
   "cell_type": "code",
   "execution_count": 30,
   "metadata": {},
   "outputs": [
    {
     "data": {
      "image/png": "[encoded data removed]",
      "text/plain": [
       "<Figure size 432x432 with 2 Axes>"
      ]
     },
     "metadata": {
      "needs_background": "light"
     },
     "output_type": "display_data"
    }
   ],
   "source": [
    "cf_M1 = plot_confusion_matrix(y_test.values, predictions_model_1_test, np.unique(y_test.values), normalize=True)"
   ]
  },
  {
   "cell_type": "code",
   "execution_count": 31,
   "metadata": {},
   "outputs": [
    {
     "data": {
      "image/png": "[encoded data removed]",
      "text/plain": [
       "<Figure size 432x432 with 2 Axes>"
      ]
     },
     "metadata": {
      "needs_background": "light"
     },
     "output_type": "display_data"
    }
   ],
   "source": [
    "cf_B1 = plot_confusion_matrix(y_test.values, predictions_bench_1_test, np.unique(y_test.values), normalize=True)"
   ]
  },
  {
   "cell_type": "markdown",
   "metadata": {},
   "source": [
    "### 3.2 Modelo Grupos de Categoría"
   ]
  },
  {
   "cell_type": "code",
   "execution_count": 32,
   "metadata": {},
   "outputs": [],
   "source": [
    "X = complete_df[features].copy()\n",
    "y = complete_df[target_2].astype('int64').copy()\n",
    "X.total_questions.fillna(0, inplace=True)"
   ]
  },
  {
   "cell_type": "code",
   "execution_count": 33,
   "metadata": {},
   "outputs": [],
   "source": [
    "X_train_val, X_test, y_train_val, y_test = train_test_split(X, y, test_size=0.2, random_state=42)"
   ]
  },
  {
   "cell_type": "code",
   "execution_count": 34,
   "metadata": {},
   "outputs": [],
   "source": [
    "X_train, X_val, y_train, y_val = train_test_split(X_train_val, y_train_val, test_size=0.2, random_state=42)"
   ]
  },
  {
   "cell_type": "code",
   "execution_count": 35,
   "metadata": {},
   "outputs": [
    {
     "name": "stdout",
     "output_type": "stream",
     "text": [
      "Number of Categories: 5\n"
     ]
    }
   ],
   "source": [
    "print(f'Number of Categories: {len(y_train.value_counts())}')"
   ]
  },
  {
   "cell_type": "markdown",
   "metadata": {},
   "source": [
    "#### 3.2.1 XGBoost Classifier"
   ]
  },
  {
   "cell_type": "code",
   "execution_count": null,
   "metadata": {},
   "outputs": [],
   "source": [
    "Model_2 = GridSearchXGBClassifier(num_class = 5)\n",
    "Model_2.fit(X_train, y_train)"
   ]
  },
  {
   "cell_type": "markdown",
   "metadata": {},
   "source": [
    "#### 3.2.1 Benchmark"
   ]
  },
  {
   "cell_type": "code",
   "execution_count": null,
   "metadata": {},
   "outputs": [],
   "source": [
    "benchmark_2 = benchmark()\n",
    "benchmark_2.fit(X_train, y_train)"
   ]
  },
  {
   "cell_type": "markdown",
   "metadata": {},
   "source": [
    "#### 3.2.3 Predicciones y Evaluación de Modelos"
   ]
  },
  {
   "cell_type": "code",
   "execution_count": null,
   "metadata": {},
   "outputs": [],
   "source": [
    "# Predicciones en Validación y Test para el Modelo 1\n",
    "predictions_model_2_validation = Model_2.predict(X_val)\n",
    "f_1_model_2_validation = f1_score(predictions_model_2_validation, y_val.values, average = 'macro')\n",
    "\n",
    "predictions_model_2_test = Model_2.predict(X_test)\n",
    "f_1_model_2_test = f1_score(predictions_model_2_test, y_test.values, average = 'macro')"
   ]
  },
  {
   "cell_type": "code",
   "execution_count": null,
   "metadata": {},
   "outputs": [],
   "source": [
    "# Predicciones en Validación y Test para Benchmark 1\n",
    "predictions_bench_2_validation = benchmark_2.predict(X_val)\n",
    "f_1_bench_2_validation = f1_score(predictions_bench_2_validation, y_val.values, average = 'macro')\n",
    "\n",
    "predictions_bench_2_test = benchmark_2.predict(X_test)\n",
    "f_1_bench_2_test = f1_score(predictions_bench_2_test, y_test.values, average = 'macro')"
   ]
  },
  {
   "cell_type": "code",
   "execution_count": null,
   "metadata": {},
   "outputs": [],
   "source": [
    "print(f'Resultados Validación: F1 Modelo {f_1_model_2_validation} vs. F1 Benchmark {f_1_bench_2_validation}\\nResultados Test: F1 Modelo {f_1_model_2_test} vs F1 Benchmark {f_1_bench_2_test}')"
   ]
  },
  {
   "cell_type": "code",
   "execution_count": null,
   "metadata": {},
   "outputs": [],
   "source": [
    "cf_M2 = plot_confusion_matrix(y_test.values, predictions_model_2_test, np.unique(y_test.values), normalize=True)"
   ]
  },
  {
   "cell_type": "code",
   "execution_count": null,
   "metadata": {},
   "outputs": [],
   "source": [
    "cf_B2 = plot_confusion_matrix(y_test.values, predictions_bench_2_test, np.unique(y_test.values), normalize=True)"
   ]
  }
 ],
 "metadata": {
  "kernelspec": {
   "display_name": "Python 3",
   "language": "python",
   "name": "python3"
  },
  "language_info": {
   "codemirror_mode": {
    "name": "ipython",
    "version": 3
   },
   "file_extension": ".py",
   "mimetype": "text/x-python",
   "name": "python",
   "nbconvert_exporter": "python",
   "pygments_lexer": "ipython3",
   "version": "3.7.3"
  }
 },
 "nbformat": 4,
 "nbformat_minor": 4
}
