{
 "cells": [
  {
   "cell_type": "markdown",
   "metadata": {},
   "source": [
    "## 1. Resultados del Análisis Exploratorio \n",
    "En esta sección se discutirán los resultados del Análisis Exploratorio para el modelo de Cantidades Vendidas (*sold_quantity*). Se considera que con el conocimiento obtenido hasta el momento es posible identificar con una precisión adecuada cuándo un producto no ha vendido unidades (*sold_quantity = 0*). Sin embargo, poder discriminar entre el resto de categorías parece ser una tarea bastante complicada, por lo menos con la información recolectada hasta el momento. \n",
    "\n",
    "Por lo anterior se propone probar con dos modelos. \n",
    "\n",
    "- **Modelo 1:** Predicción de *sold_quantity* directamente\n",
    "- **Modelo 2:** Predicción de cinco categorías: 0 unidades vendidas, [1 - 4] unidades vendidas, [5 - 25], (25, 50], 50+ unidades vendidas.\n",
    "    - Este último podría utilizarse para predecir grupos sobre los cuáles utilizar un modelo específico. \n",
    "    - Surge como alternativa al modelo 1 debido a la poca capacidad discriminadora de las variables obtenidas.\n",
    "    \n",
    "Y se comparará directamente su desempeño con una predicción basada en la moda por años de antigüedad, corregida por:\n",
    "- **Tipo de comisión:** Diferente a *gold_pro* o *gold_special* > Predicción 0\n",
    "- **Condición del Producto:** Usado -> Predicción 0\n",
    "\n",
    "Los modelos serán árboles boosteados (XGBoost), y por cuestiones de tiempo, sólo se hará una búsqueda del número óptimo de árboles de los modelos de clasificación."
   ]
  },
  {
   "cell_type": "markdown",
   "metadata": {},
   "source": [
    "### 1.1 Selección de Variables para Modelamiento\n",
    "\n",
    "Gracias al Análisis Exploratorio, se identificaron que las variables que tenían más relación con la variable objetivo de cantidad vendida fueron: \n",
    "- **golden_categories**: Una variable indicadora que toma el valor de 1 si la comisión asociada al producto es *golden_pro* o *golden_special*. Toma el valor de 0 en caso contrario.\n",
    "- **is_new**: Una variable indicadora que toma el valor de 1 si el producto es nuevo o 0 si es usado.\n",
    "- **total_questions**: Cantidad de preguntas que tiene el producto.\n",
    "- **product_age**: Antigüedad del producto en meses.\n",
    "- **has_discount**: Variable que indica si el producto tiene un descuento (1) o no (0). \n",
    "- **updated_picture**: Variable que indica si el producto tiene una imagen actualizada (1) o no (0).\n",
    "\n",
    "A continuación construyen estas variables y se divide la muestra en conjuntos de entrenamiento (64%), validación (16%) y prueba (20%). "
   ]
  },
  {
   "cell_type": "markdown",
   "metadata": {},
   "source": [
    "## 2. Cargue de Información"
   ]
  },
  {
   "cell_type": "code",
   "execution_count": 1,
   "metadata": {},
   "outputs": [],
   "source": [
    "import os\n",
    "import pandas as pd\n",
    "from sklearn.metrics import f1_score\n",
    "from model import plot_confusion_matrix, GridSearchXGBClassifier, benchmark\n",
    "from sklearn.model_selection import train_test_split\n",
    "import numpy as np"
   ]
  },
  {
   "cell_type": "markdown",
   "metadata": {},
   "source": [
    "### 2.1 Creación de Features"
   ]
  },
  {
   "cell_type": "code",
   "execution_count": 2,
   "metadata": {},
   "outputs": [],
   "source": [
    "data_folder = '../data'\n",
    "data_by_category = [pd.read_csv(os.path.join(data_folder, file), sep = \";\") for file in os.listdir('../data') if file.find('.csv') != -1]\n",
    "complete_df = pd.concat(data_by_category, axis = 0, ignore_index=True)\n",
    "\n",
    "# Indicador de Categoría Dorada\n",
    "complete_df['golden_categories'] = 1*(complete_df.listing_type_id.isin(['gold_pro', 'gold_special']))\n",
    "\n",
    "# Indicador de Producto Nuevo\n",
    "complete_df['is_new'] = 1*(complete_df.condition=='new')\n",
    "\n",
    "# Antigüedad de Producto\n",
    "actual_year = 2020\n",
    "actual_month = 12\n",
    "complete_df['product_age'] = 12*(actual_year - complete_df.year_created) + (actual_month - complete_df.month_created) + 1\n",
    "\n",
    "# Indicador de descuento\n",
    "complete_df['has_discount'] = 1*(~complete_df.original_price.isnull())\n",
    "\n",
    "# Se crea una característica indicando si la foto fue actualizada\n",
    "complete_df.loc[(complete_df.year_update == complete_df.year_created) & (complete_df.month_update == complete_df.month_created), 'updated_picture'] = 0\n",
    "complete_df.loc[(complete_df.year_update != complete_df.year_created) | (complete_df.month_update != complete_df.month_created), 'updated_picture'] = 1"
   ]
  },
  {
   "cell_type": "markdown",
   "metadata": {},
   "source": [
    "### 2.2. Creación de Variable Objetivo para Modelo 2"
   ]
  },
  {
   "cell_type": "code",
   "execution_count": 3,
   "metadata": {},
   "outputs": [],
   "source": [
    "complete_df.loc[complete_df.sold_quantity == 0, 'sold_group'] = 0   # 0\n",
    "complete_df.loc[complete_df.sold_quantity >= 1, 'sold_group'] = 1   # De [1, 4]\n",
    "complete_df.loc[complete_df.sold_quantity == 5, 'sold_group'] = 5   # De [5, 25]\n",
    "complete_df.loc[complete_df.sold_quantity >= 25, 'sold_group'] = 25 # De [26 - 50)\n",
    "complete_df.loc[complete_df.sold_quantity >= 50, 'sold_group'] = 50 # De 50 +"
   ]
  },
  {
   "cell_type": "code",
   "execution_count": 4,
   "metadata": {},
   "outputs": [
    {
     "data": {
      "text/plain": [
       "5.0     0.293085\n",
       "1.0     0.240647\n",
       "0.0     0.191289\n",
       "50.0    0.173073\n",
       "25.0    0.101906\n",
       "Name: sold_group, dtype: float64"
      ]
     },
     "execution_count": 4,
     "metadata": {},
     "output_type": "execute_result"
    }
   ],
   "source": [
    "complete_df.sold_group.value_counts()/len(complete_df) "
   ]
  },
  {
   "cell_type": "markdown",
   "metadata": {},
   "source": [
    "Se puede apreciar que esta re-categorización vuelve el conjunto de datos más balanceado. Por lo que utilizar el acierto de clasificación (accuracy) no sería tan engañoso."
   ]
  },
  {
   "cell_type": "code",
   "execution_count": 5,
   "metadata": {},
   "outputs": [],
   "source": [
    "features = ['golden_categories', 'is_new','total_questions', 'product_age', 'has_discount' , 'updated_picture']\n",
    "target_1 = ['sold_quantity']\n",
    "target_2 = ['sold_group']"
   ]
  },
  {
   "cell_type": "markdown",
   "metadata": {},
   "source": [
    "## 3. Modelamiento\n",
    "\n",
    "La cantidad vendida se modelará utilizando un XGBoost, pues se presume que la relación entre las variables explicativas y las cantidades vendidas contiene no linealidades. De esta forma, se espera que el modelo pueda encontrar los patrones, particularmente cuando analiza la cantidad de preguntas y la antigüedad del producto. Debido a limitaciones de tiempo, sólo se realizará una búsqueda del número óptimo de árboles dentro del modelo, escogiendo entre un limitado número de candidatos, a saber: [200, 300, 400, 500, 600, 700]\n",
    "\n",
    "Adicionalmente, estos modelos serán comparados directamente con una línea base basado en la moda de la cantidad vendida por grupos de bimestres de antigüedad. Esta predicción será corregida por las siguientes reglas basadas en el Análisis Exploratorio:\n",
    "\n",
    "- Si el cobro por comisión del producto es diferente a *golden_pro* o *golden_special*, la predicción será 0.\n",
    "- Si la condición del producto es diferente a *nuevo*, la predicción será 0. \n",
    "\n",
    "Cabe resaltar que el grouping podría ser un hiperparámetro del benchmark.\n",
    "\n",
    "### 3.1 Modelo 1: Categoría Vendida"
   ]
  },
  {
   "cell_type": "code",
   "execution_count": 6,
   "metadata": {},
   "outputs": [],
   "source": [
    "# Selección de features y de variable objetivo\n",
    "\n",
    "X = complete_df[features].copy()\n",
    "y = complete_df[target_1].astype('int64').copy()\n",
    "\n",
    "# Los productos con total preguntas nulo es porque son 0.\n",
    "X.total_questions.fillna(0, inplace=True)"
   ]
  },
  {
   "cell_type": "code",
   "execution_count": 7,
   "metadata": {},
   "outputs": [],
   "source": [
    "# Separación en Train-Val y Test\n",
    "X_train_val, X_test_1, y_train_val, y_test_1 = train_test_split(X, y, test_size=0.2, random_state=42)"
   ]
  },
  {
   "cell_type": "code",
   "execution_count": 8,
   "metadata": {},
   "outputs": [],
   "source": [
    "# Separación de Train y Validación\n",
    "X_train_1, X_val_1, y_train_1, y_val_1 = train_test_split(X_train_val, y_train_val, test_size=0.2, random_state=42)"
   ]
  },
  {
   "cell_type": "code",
   "execution_count": 9,
   "metadata": {},
   "outputs": [
    {
     "name": "stdout",
     "output_type": "stream",
     "text": [
      "Number of Categories: 14\n"
     ]
    }
   ],
   "source": [
    "print(f'Number of Categories: {len(y_train_1.value_counts())}')"
   ]
  },
  {
   "cell_type": "markdown",
   "metadata": {},
   "source": [
    "#### 3.1.1 XGBoost Classifier"
   ]
  },
  {
   "cell_type": "code",
   "execution_count": 10,
   "metadata": {},
   "outputs": [
    {
     "name": "stdout",
     "output_type": "stream",
     "text": [
      "Fitting 3 folds for each of 6 candidates, totalling 18 fits\n"
     ]
    },
    {
     "name": "stderr",
     "output_type": "stream",
     "text": [
      "[Parallel(n_jobs=1)]: Using backend SequentialBackend with 1 concurrent workers.\n",
      "/opt/tljh/user/lib/python3.7/site-packages/sklearn/utils/validation.py:72: DataConversionWarning: A column-vector y was passed when a 1d array was expected. Please change the shape of y to (n_samples, ), for example using ravel().\n",
      "  return f(**kwargs)\n"
     ]
    },
    {
     "name": "stdout",
     "output_type": "stream",
     "text": [
      "[CV] n_estimators=200 ................................................\n",
      "[CV] .................... n_estimators=200, score=0.249, total= 1.3min\n",
      "[CV] n_estimators=200 ................................................\n"
     ]
    },
    {
     "name": "stderr",
     "output_type": "stream",
     "text": [
      "[Parallel(n_jobs=1)]: Done   1 out of   1 | elapsed:  1.3min remaining:    0.0s\n"
     ]
    },
    {
     "name": "stdout",
     "output_type": "stream",
     "text": [
      "[CV] .................... n_estimators=200, score=0.231, total= 1.4min\n",
      "[CV] n_estimators=200 ................................................\n"
     ]
    },
    {
     "name": "stderr",
     "output_type": "stream",
     "text": [
      "[Parallel(n_jobs=1)]: Done   2 out of   2 | elapsed:  2.7min remaining:    0.0s\n"
     ]
    },
    {
     "name": "stdout",
     "output_type": "stream",
     "text": [
      "[CV] .................... n_estimators=200, score=0.243, total= 1.3min\n",
      "[CV] n_estimators=300 ................................................\n",
      "[CV] .................... n_estimators=300, score=0.253, total= 2.0min\n",
      "[CV] n_estimators=300 ................................................\n",
      "[CV] .................... n_estimators=300, score=0.233, total= 2.0min\n",
      "[CV] n_estimators=300 ................................................\n",
      "[CV] .................... n_estimators=300, score=0.243, total= 2.0min\n",
      "[CV] n_estimators=400 ................................................\n",
      "[CV] .................... n_estimators=400, score=0.258, total= 2.7min\n",
      "[CV] n_estimators=400 ................................................\n",
      "[CV] .................... n_estimators=400, score=0.234, total= 2.7min\n",
      "[CV] n_estimators=400 ................................................\n",
      "[CV] .................... n_estimators=400, score=0.243, total= 2.7min\n",
      "[CV] n_estimators=500 ................................................\n",
      "[CV] .................... n_estimators=500, score=0.259, total= 3.4min\n",
      "[CV] n_estimators=500 ................................................\n",
      "[CV] .................... n_estimators=500, score=0.235, total= 3.4min\n",
      "[CV] n_estimators=500 ................................................\n",
      "[CV] .................... n_estimators=500, score=0.245, total= 3.3min\n",
      "[CV] n_estimators=600 ................................................\n",
      "[CV] .................... n_estimators=600, score=0.259, total= 4.0min\n",
      "[CV] n_estimators=600 ................................................\n",
      "[CV] .................... n_estimators=600, score=0.236, total= 4.0min\n",
      "[CV] n_estimators=600 ................................................\n",
      "[CV] .................... n_estimators=600, score=0.245, total= 4.1min\n",
      "[CV] n_estimators=700 ................................................\n",
      "[CV] .................... n_estimators=700, score=0.257, total= 4.8min\n",
      "[CV] n_estimators=700 ................................................\n",
      "[CV] .................... n_estimators=700, score=0.237, total= 4.6min\n",
      "[CV] n_estimators=700 ................................................\n",
      "[CV] .................... n_estimators=700, score=0.248, total= 4.7min\n"
     ]
    },
    {
     "name": "stderr",
     "output_type": "stream",
     "text": [
      "[Parallel(n_jobs=1)]: Done  18 out of  18 | elapsed: 54.3min finished\n"
     ]
    },
    {
     "data": {
      "text/plain": [
       "GridSearchCV(cv=StratifiedShuffleSplit(n_splits=3, random_state=42, test_size=0.3,\n",
       "            train_size=None),\n",
       "             estimator=XGBClassifier(base_score=None, booster=None,\n",
       "                                     colsample_bylevel=None,\n",
       "                                     colsample_bynode=None,\n",
       "                                     colsample_bytree=None, gamma=None,\n",
       "                                     gpu_id=None, importance_type='gain',\n",
       "                                     interaction_constraints=None,\n",
       "                                     learning_rate=None, max_delta_step=None,\n",
       "                                     max_depth=None, min_...e,\n",
       "                                     missing=nan, monotone_constraints=None,\n",
       "                                     n_estimators=100, n_jobs=3, num_class=14,\n",
       "                                     num_parallel_tree=None,\n",
       "                                     objective='multi:softmax',\n",
       "                                     random_state=None, reg_alpha=None,\n",
       "                                     reg_lambda=None, scale_pos_weight=None,\n",
       "                                     subsample=None, tree_method=None,\n",
       "                                     validate_parameters=None, verbosity=None),\n",
       "             param_grid=[{'n_estimators': range(200, 800, 100)}],\n",
       "             scoring='f1_macro', verbose=3)"
      ]
     },
     "execution_count": 10,
     "metadata": {},
     "output_type": "execute_result"
    }
   ],
   "source": [
    "# Se inicializa el XGBoost con búsqueda de hiperparámetros. n_estimators : [200, 300, 400, 500, 600, 700]\n",
    "# El objetivo es maximizar el macro f1 score\n",
    "Model_1 = GridSearchXGBClassifier(num_class = 14)\n",
    "Model_1.fit(X_train_1, y_train_1)"
   ]
  },
  {
   "cell_type": "markdown",
   "metadata": {},
   "source": [
    "Después de realizar la búsqueda de hiperparámetros, se encuentra que el mejor modelo es un XGBoost con 700 árboles."
   ]
  },
  {
   "cell_type": "code",
   "execution_count": 11,
   "metadata": {},
   "outputs": [
    {
     "data": {
      "text/plain": [
       "{'n_estimators': 700}"
      ]
     },
     "execution_count": 11,
     "metadata": {},
     "output_type": "execute_result"
    }
   ],
   "source": [
    "Model_1.best_params_"
   ]
  },
  {
   "cell_type": "markdown",
   "metadata": {},
   "source": [
    "#### 3.1.2 Benchmark para Cantidad Vendida"
   ]
  },
  {
   "cell_type": "code",
   "execution_count": 12,
   "metadata": {},
   "outputs": [],
   "source": [
    "benchmark_1 = benchmark()\n",
    "benchmark_1.fit(X_train_1, y_train_1)"
   ]
  },
  {
   "cell_type": "markdown",
   "metadata": {},
   "source": [
    "A continuación se muestra las predicciones (sin corregir) del benchmark para este caso, dado un nivel de antigüedad. Se puede observar que si la antigüedad (en bimestres) del producto es de hasta 19 bimestres, la predicción es 5. Si el producto tiene una antigüedad superior (20 o más de 21 bimestres), la predicción es de categoría de 50 unidades vendidas.\n",
    "\n",
    "Este modelo es bastante simple, pero incorpora la información descubierta en el EDA."
   ]
  },
  {
   "cell_type": "code",
   "execution_count": 13,
   "metadata": {},
   "outputs": [
    {
     "data": {
      "text/plain": [
       "{-1.0: 0,\n",
       " 0.0: 5,\n",
       " 1.0: 5,\n",
       " 2.0: 5,\n",
       " 3.0: 5,\n",
       " 4.0: 5,\n",
       " 5.0: 5,\n",
       " 6.0: 5,\n",
       " 7.0: 5,\n",
       " 8.0: 5,\n",
       " 9.0: 5,\n",
       " 10.0: 5,\n",
       " 11.0: 5,\n",
       " 12.0: 5,\n",
       " 13.0: 5,\n",
       " 14.0: 5,\n",
       " 15.0: 5,\n",
       " 16.0: 5,\n",
       " 17.0: 5,\n",
       " 18.0: 5,\n",
       " 19.0: 5,\n",
       " 20.0: 50,\n",
       " 21.0: 50}"
      ]
     },
     "execution_count": 13,
     "metadata": {},
     "output_type": "execute_result"
    }
   ],
   "source": [
    "benchmark_1.lookup_model"
   ]
  },
  {
   "cell_type": "markdown",
   "metadata": {},
   "source": [
    "### 3.2 Modelo 2:  Grupos de Venta"
   ]
  },
  {
   "cell_type": "code",
   "execution_count": 14,
   "metadata": {},
   "outputs": [],
   "source": [
    "X = complete_df[features].copy()\n",
    "y = complete_df[target_2].astype('int64').copy()\n",
    "X.total_questions.fillna(0, inplace=True)"
   ]
  },
  {
   "cell_type": "code",
   "execution_count": 15,
   "metadata": {},
   "outputs": [],
   "source": [
    "X_train_val, X_test_2, y_train_val, y_test_2 = train_test_split(X, y, test_size=0.2, random_state=42)"
   ]
  },
  {
   "cell_type": "code",
   "execution_count": 16,
   "metadata": {},
   "outputs": [],
   "source": [
    "X_train_2, X_val_2, y_train_2, y_val_2 = train_test_split(X_train_val, y_train_val, test_size=0.2, random_state=42)"
   ]
  },
  {
   "cell_type": "code",
   "execution_count": 17,
   "metadata": {},
   "outputs": [
    {
     "name": "stdout",
     "output_type": "stream",
     "text": [
      "Number of Categories: 5\n"
     ]
    }
   ],
   "source": [
    "print(f'Number of Categories: {len(y_train_2.value_counts())}')"
   ]
  },
  {
   "cell_type": "markdown",
   "metadata": {},
   "source": [
    "#### 3.2.1 XGBoost Classifier"
   ]
  },
  {
   "cell_type": "code",
   "execution_count": 18,
   "metadata": {},
   "outputs": [
    {
     "name": "stdout",
     "output_type": "stream",
     "text": [
      "Fitting 3 folds for each of 6 candidates, totalling 18 fits\n"
     ]
    },
    {
     "name": "stderr",
     "output_type": "stream",
     "text": [
      "[Parallel(n_jobs=1)]: Using backend SequentialBackend with 1 concurrent workers.\n",
      "/opt/tljh/user/lib/python3.7/site-packages/sklearn/utils/validation.py:72: DataConversionWarning: A column-vector y was passed when a 1d array was expected. Please change the shape of y to (n_samples, ), for example using ravel().\n",
      "  return f(**kwargs)\n"
     ]
    },
    {
     "name": "stdout",
     "output_type": "stream",
     "text": [
      "[CV] n_estimators=200 ................................................\n",
      "[CV] .................... n_estimators=200, score=0.543, total=  28.4s\n",
      "[CV] n_estimators=200 ................................................\n"
     ]
    },
    {
     "name": "stderr",
     "output_type": "stream",
     "text": [
      "[Parallel(n_jobs=1)]: Done   1 out of   1 | elapsed:   28.4s remaining:    0.0s\n"
     ]
    },
    {
     "name": "stdout",
     "output_type": "stream",
     "text": [
      "[CV] .................... n_estimators=200, score=0.541, total=  28.4s\n",
      "[CV] n_estimators=200 ................................................\n"
     ]
    },
    {
     "name": "stderr",
     "output_type": "stream",
     "text": [
      "[Parallel(n_jobs=1)]: Done   2 out of   2 | elapsed:   56.8s remaining:    0.0s\n"
     ]
    },
    {
     "name": "stdout",
     "output_type": "stream",
     "text": [
      "[CV] .................... n_estimators=200, score=0.541, total=  27.8s\n",
      "[CV] n_estimators=300 ................................................\n",
      "[CV] .................... n_estimators=300, score=0.545, total=  42.5s\n",
      "[CV] n_estimators=300 ................................................\n",
      "[CV] .................... n_estimators=300, score=0.542, total=  42.9s\n",
      "[CV] n_estimators=300 ................................................\n",
      "[CV] .................... n_estimators=300, score=0.543, total=  41.6s\n",
      "[CV] n_estimators=400 ................................................\n",
      "[CV] .................... n_estimators=400, score=0.548, total=  56.0s\n",
      "[CV] n_estimators=400 ................................................\n",
      "[CV] .................... n_estimators=400, score=0.543, total=  56.0s\n",
      "[CV] n_estimators=400 ................................................\n",
      "[CV] .................... n_estimators=400, score=0.546, total=  55.8s\n",
      "[CV] n_estimators=500 ................................................\n",
      "[CV] .................... n_estimators=500, score=0.548, total= 1.2min\n",
      "[CV] n_estimators=500 ................................................\n",
      "[CV] .................... n_estimators=500, score=0.545, total= 1.2min\n",
      "[CV] n_estimators=500 ................................................\n",
      "[CV] .................... n_estimators=500, score=0.547, total= 1.2min\n",
      "[CV] n_estimators=600 ................................................\n",
      "[CV] .................... n_estimators=600, score=0.550, total= 1.4min\n",
      "[CV] n_estimators=600 ................................................\n",
      "[CV] .................... n_estimators=600, score=0.547, total= 1.4min\n",
      "[CV] n_estimators=600 ................................................\n",
      "[CV] .................... n_estimators=600, score=0.547, total= 1.4min\n",
      "[CV] n_estimators=700 ................................................\n",
      "[CV] .................... n_estimators=700, score=0.550, total= 1.6min\n",
      "[CV] n_estimators=700 ................................................\n",
      "[CV] .................... n_estimators=700, score=0.547, total= 1.7min\n",
      "[CV] n_estimators=700 ................................................\n",
      "[CV] .................... n_estimators=700, score=0.548, total= 1.6min\n"
     ]
    },
    {
     "name": "stderr",
     "output_type": "stream",
     "text": [
      "[Parallel(n_jobs=1)]: Done  18 out of  18 | elapsed: 19.1min finished\n"
     ]
    },
    {
     "data": {
      "text/plain": [
       "GridSearchCV(cv=StratifiedShuffleSplit(n_splits=3, random_state=42, test_size=0.3,\n",
       "            train_size=None),\n",
       "             estimator=XGBClassifier(base_score=None, booster=None,\n",
       "                                     colsample_bylevel=None,\n",
       "                                     colsample_bynode=None,\n",
       "                                     colsample_bytree=None, gamma=None,\n",
       "                                     gpu_id=None, importance_type='gain',\n",
       "                                     interaction_constraints=None,\n",
       "                                     learning_rate=None, max_delta_step=None,\n",
       "                                     max_depth=None, min_...ne,\n",
       "                                     missing=nan, monotone_constraints=None,\n",
       "                                     n_estimators=100, n_jobs=3, num_class=5,\n",
       "                                     num_parallel_tree=None,\n",
       "                                     objective='multi:softmax',\n",
       "                                     random_state=None, reg_alpha=None,\n",
       "                                     reg_lambda=None, scale_pos_weight=None,\n",
       "                                     subsample=None, tree_method=None,\n",
       "                                     validate_parameters=None, verbosity=None),\n",
       "             param_grid=[{'n_estimators': range(200, 800, 100)}],\n",
       "             scoring='f1_macro', verbose=3)"
      ]
     },
     "execution_count": 18,
     "metadata": {},
     "output_type": "execute_result"
    }
   ],
   "source": [
    "Model_2 = GridSearchXGBClassifier(num_class = 5)\n",
    "Model_2.fit(X_train_2, y_train_2)"
   ]
  },
  {
   "cell_type": "markdown",
   "metadata": {},
   "source": [
    "De manera similar al modelo 1, también se obtiene que la cantidad de estimadores necesaria es 700. "
   ]
  },
  {
   "cell_type": "code",
   "execution_count": 19,
   "metadata": {},
   "outputs": [
    {
     "data": {
      "text/plain": [
       "{'n_estimators': 700}"
      ]
     },
     "execution_count": 19,
     "metadata": {},
     "output_type": "execute_result"
    }
   ],
   "source": [
    "Model_2.best_params_ "
   ]
  },
  {
   "cell_type": "markdown",
   "metadata": {},
   "source": [
    "#### 3.2.1 Benchmark"
   ]
  },
  {
   "cell_type": "code",
   "execution_count": 20,
   "metadata": {},
   "outputs": [
    {
     "name": "stderr",
     "output_type": "stream",
     "text": [
      "/opt/tljh/user/lib/python3.7/site-packages/ipykernel_launcher.py:1: SettingWithCopyWarning: \n",
      "A value is trying to be set on a copy of a slice from a DataFrame.\n",
      "Try using .loc[row_indexer,col_indexer] = value instead\n",
      "\n",
      "See the caveats in the documentation: https://pandas.pydata.org/pandas-docs/stable/user_guide/indexing.html#returning-a-view-versus-a-copy\n",
      "  \"\"\"Entry point for launching an IPython kernel.\n"
     ]
    }
   ],
   "source": [
    "y_train_2['sold_quantity'] = y_train_2['sold_group'] # El benchmark se basa en sold_quantity. Aquí se hace un renombramiento"
   ]
  },
  {
   "cell_type": "code",
   "execution_count": 21,
   "metadata": {},
   "outputs": [],
   "source": [
    "benchmark_2 = benchmark()\n",
    "benchmark_2.fit(X_train_2, y_train_2['sold_quantity'])"
   ]
  },
  {
   "cell_type": "markdown",
   "metadata": {},
   "source": [
    "A diferencia del Benchmark 1, este benchmark para grupos de ventas tiene prevalencia en la predicción de la categoría de 50+. "
   ]
  },
  {
   "cell_type": "code",
   "execution_count": 22,
   "metadata": {},
   "outputs": [
    {
     "data": {
      "text/plain": [
       "{-1.0: 0,\n",
       " 0.0: 1,\n",
       " 1.0: 5,\n",
       " 2.0: 5,\n",
       " 3.0: 5,\n",
       " 4.0: 5,\n",
       " 5.0: 5,\n",
       " 6.0: 5,\n",
       " 7.0: 5,\n",
       " 8.0: 5,\n",
       " 9.0: 50,\n",
       " 10.0: 50,\n",
       " 11.0: 50,\n",
       " 12.0: 50,\n",
       " 13.0: 50,\n",
       " 14.0: 50,\n",
       " 15.0: 50,\n",
       " 16.0: 50,\n",
       " 17.0: 50,\n",
       " 18.0: 50,\n",
       " 19.0: 50,\n",
       " 20.0: 50,\n",
       " 21.0: 50}"
      ]
     },
     "execution_count": 22,
     "metadata": {},
     "output_type": "execute_result"
    }
   ],
   "source": [
    "benchmark_2.lookup_model"
   ]
  },
  {
   "cell_type": "markdown",
   "metadata": {},
   "source": [
    "## 4. Evaluación de Modelos\n",
    "\n",
    "En esta sección se evaluarán los modelos creados anteriormente y se compararán directamente con el Benchmark. Debido a que existe un desbalance de clases (ver EDA del modelo), la métrica más adecuada para su evaluación es el puntaje $F1$ que será agregado de manera macro a través de todas las categorías. Esta métrica da un mejor entendimiento del desempeño del modelo, pues castiga a aquellos modelos que predicen siempre la clase mayoritaria.\n",
    "\n",
    "Adicionalmente, a cada modelo se le realizó una matriz de confusión para determinar concentraciones de predicción y áreas de mejora.\n",
    "\n",
    "\n",
    "### 4.1 Modelo de Cantidad Vendida\n",
    "\n",
    "A continuación se presentan los puntajes $F1$ para el modelo de Cantidad Vendida y sus correspondientes matrices de confusión."
   ]
  },
  {
   "cell_type": "code",
   "execution_count": 23,
   "metadata": {},
   "outputs": [],
   "source": [
    "# Predicciones en Validación y Test para el Modelo 1\n",
    "predictions_model_1_validation = Model_1.predict(X_val_1)\n",
    "f_1_model_1_validation = f1_score(predictions_model_1_validation, y_val_1.values, average = 'macro')\n",
    "\n",
    "predictions_model_1_test = Model_1.predict(X_test_1)\n",
    "f_1_model_1_test = f1_score(predictions_model_1_test, y_test_1.values, average = 'macro')"
   ]
  },
  {
   "cell_type": "code",
   "execution_count": 24,
   "metadata": {},
   "outputs": [],
   "source": [
    "# Predicciones en Validación y Test para Benchmark 1\n",
    "predictions_bench_1_validation = benchmark_1.predict(X_val_1)\n",
    "f_1_bench_1_validation = f1_score(predictions_bench_1_validation, y_val_1.values, average = 'macro')\n",
    "\n",
    "predictions_bench_1_test = benchmark_1.predict(X_test_1)\n",
    "f_1_bench_1_test = f1_score(predictions_bench_1_test, y_test_1.values, average = 'macro')"
   ]
  },
  {
   "cell_type": "code",
   "execution_count": 25,
   "metadata": {},
   "outputs": [
    {
     "name": "stdout",
     "output_type": "stream",
     "text": [
      "Resultados Validación: F1 Modelo 0.2551364703233134 vs. F1 Benchmark 0.09354656054378414\n",
      "Resultados Test: F1 Modelo 0.26591192493266674 vs F1 Benchmark 0.09365047073507175\n"
     ]
    }
   ],
   "source": [
    "print(f'Resultados Validación: F1 Modelo {f_1_model_1_validation} vs. F1 Benchmark {f_1_bench_1_validation}\\nResultados Test: F1 Modelo {f_1_model_1_test} vs F1 Benchmark {f_1_bench_1_test}')"
   ]
  },
  {
   "cell_type": "markdown",
   "metadata": {},
   "source": [
    "Los resultados muestran que para este problema de predicción, los $F1$ scores son bastante bajos. En principio, se tiene que en validación el $F1$ del modelo es de 0.255 mientras que el del benchmark es 0.094. Teniendo en cuenta que un $F1$ es mejor mientras más cerca se encuentre de 1, se puede decir que el Modelo domina en esta situación. Se evidencia que el modelo no hizo overfitting, pues aún en un ambiente de test, preserva un $F1$ similar al de validación.\n",
    "\n",
    "Al observar la Matriz de Confusión del modelo en test, se observa que la razón del mal desempeño de lmodelo es su constante predicción de clase 5 (ventas de 5 a 25), y que en general no es capaz de diferenciar adecuadamente los productos cuyas ventas van de 2 hasta 500 unidades. Sin embargo, se debe resaltar que este modelo puede diferenciar razonablemente entre categorías extremas utilizando la información disponible. Así, con fines de mejora del modelo debería buscarse características adicionales de los productos o de la publicación, que permitan diferenciar más las categorías intermedias.\n",
    "\n",
    "Estos resultados realzan la necesidad del Modelo de grupos de unidades vendidas. \n",
    "\n"
   ]
  },
  {
   "cell_type": "code",
   "execution_count": 26,
   "metadata": {},
   "outputs": [
    {
     "data": {
      "image/png": "[encoded data removed]",
      "text/plain": [
       "<Figure size 432x432 with 2 Axes>"
      ]
     },
     "metadata": {
      "needs_background": "light"
     },
     "output_type": "display_data"
    }
   ],
   "source": [
    "cf_M1 = plot_confusion_matrix(y_test_1.values, predictions_model_1_test, np.unique(y_test_1.values), normalize=True)"
   ]
  },
  {
   "cell_type": "markdown",
   "metadata": {},
   "source": [
    "###  4.2 Modelo Grupos de Venta\n",
    "\n",
    "A continuación se calculan los F1 tanto para el modelo como su benchmark."
   ]
  },
  {
   "cell_type": "code",
   "execution_count": 27,
   "metadata": {},
   "outputs": [],
   "source": [
    "# Predicciones en Validación y Test para el Modelo 2\n",
    "predictions_model_2_validation = Model_2.predict(X_val_2)\n",
    "f_1_model_2_validation = f1_score(predictions_model_2_validation, y_val_2.values, average = 'macro')\n",
    "\n",
    "predictions_model_2_test = Model_2.predict(X_test_2)\n",
    "f_1_model_2_test = f1_score(predictions_model_2_test, y_test_2.values, average = 'macro')"
   ]
  },
  {
   "cell_type": "code",
   "execution_count": 28,
   "metadata": {},
   "outputs": [],
   "source": [
    "# Predicciones en Validación y Test para Benchmark 2\n",
    "predictions_bench_2_validation = benchmark_2.predict(X_val_2)\n",
    "f_1_bench_2_validation = f1_score(predictions_bench_2_validation, y_val_2.values, average = 'macro')\n",
    "\n",
    "predictions_bench_2_test = benchmark_2.predict(X_test_2)\n",
    "f_1_bench_2_test = f1_score(predictions_bench_2_test, y_test_2.values, average = 'macro')"
   ]
  },
  {
   "cell_type": "code",
   "execution_count": 29,
   "metadata": {},
   "outputs": [
    {
     "name": "stdout",
     "output_type": "stream",
     "text": [
      "Resultados Validación: F1 Modelo 0.5473765668405837 vs. F1 Benchmark 0.3730568561480415\n",
      "Resultados Test: F1 Modelo 0.5487712581356177 vs F1 Benchmark 0.37232023566183914\n"
     ]
    }
   ],
   "source": [
    "print(f'Resultados Validación: F1 Modelo {f_1_model_2_validation} vs. F1 Benchmark {f_1_bench_2_validation}\\nResultados Test: F1 Modelo {f_1_model_2_test} vs F1 Benchmark {f_1_bench_2_test}')"
   ]
  },
  {
   "cell_type": "markdown",
   "metadata": {},
   "source": [
    "Se evidencia que el modelo sigue teniendo mejor desempeño que las reglas sobre antigüedad y atributos del producto. Se puede observar que el modelo presenta un F1 de 0.547 en validación, producto de la confusión a la hora de predecir productos cuya cantidad vendida se encuentra en el grupo de 26-50.  A pesar de esto, se tiene un modelo que identifica adecuadamente los productos cuyas cantidades vendidas pertenecen a los grupos de 0 a 25 unidades, y de más de 50 unidades. \n",
    "\n",
    "De igual forma, se espera que el modelo tenga un desempeño similar en datos nuevos de productos."
   ]
  },
  {
   "cell_type": "code",
   "execution_count": 30,
   "metadata": {},
   "outputs": [
    {
     "data": {
      "image/png": "[encoded data removed]",
      "text/plain": [
       "<Figure size 432x432 with 2 Axes>"
      ]
     },
     "metadata": {
      "needs_background": "light"
     },
     "output_type": "display_data"
    }
   ],
   "source": [
    "cf_M2 = plot_confusion_matrix(y_test_2.values, predictions_model_2_test, np.unique(y_test_2.values), normalize=True)"
   ]
  },
  {
   "cell_type": "markdown",
   "metadata": {},
   "source": [
    "## 5. Conclusión \n",
    "Los modelos aquí estimados son un acercamiento inicial al problema de predicción de cantidades vendidas. Para resolver el problema, se construyeron variables de atributos del producto como condición, antigüedad, cantidad de preguntas y tipo de comisión que se cobra. En primera instancia, se creó un modelo para predecir la cantidad vendida como se obtiene del API. Se evidencia que este modelo es capaz de identificar las categorías extremas (ventas de 0 y 1 unidad, hasta de más de 500 unidades), pero falla considerablemente en la predicción del resto de categorías intermedias. \n",
    "En segunda instancia, se agruparon las cantidades vendidas en cinco grupos y se construyó un modelo utilizando las mismas variables explicativas. Este modelo fue capaz de predecir adecuadamente todas las categorías a excepción de las ventas de productos de 26 a 50 unidades. \n",
    "\n",
    "De esta forma, se concluye que las variables obtenidas no son capaces de discriminar adecuadamente las categorías intermedias de unidades vendidas, y se recomienda construir nuevas características que permitan diferenciar los productos de cada categoría."
   ]
  },
  {
   "cell_type": "code",
   "execution_count": null,
   "metadata": {},
   "outputs": [],
   "source": []
  }
 ],
 "metadata": {
  "kernelspec": {
   "display_name": "Python 3",
   "language": "python",
   "name": "python3"
  },
  "language_info": {
   "codemirror_mode": {
    "name": "ipython",
    "version": 3
   },
   "file_extension": ".py",
   "mimetype": "text/x-python",
   "name": "python",
   "nbconvert_exporter": "python",
   "pygments_lexer": "ipython3",
   "version": "3.8.5"
  }
 },
 "nbformat": 4,
 "nbformat_minor": 4
}
