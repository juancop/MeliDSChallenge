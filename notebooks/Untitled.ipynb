{
 "cells": [
  {
   "cell_type": "code",
   "execution_count": 11,
   "metadata": {},
   "outputs": [],
   "source": [
    "import requests \n",
    "import json\n",
    "url = \"https://api.mercadolibre.com/sites#json\""
   ]
  },
  {
   "cell_type": "code",
   "execution_count": 12,
   "metadata": {},
   "outputs": [],
   "source": [
    "r = requests.get(url = url)"
   ]
  },
  {
   "cell_type": "code",
   "execution_count": 14,
   "metadata": {},
   "outputs": [],
   "source": [
    "output_list = r.json()"
   ]
  },
  {
   "cell_type": "code",
   "execution_count": 17,
   "metadata": {},
   "outputs": [
    {
     "data": {
      "text/plain": [
       "'Venezuela'"
      ]
     },
     "execution_count": 17,
     "metadata": {},
     "output_type": "execute_result"
    }
   ],
   "source": [
    "output_list[0]['name']"
   ]
  },
  {
   "cell_type": "code",
   "execution_count": 27,
   "metadata": {},
   "outputs": [],
   "source": [
    "s = next((item for item in output_list if item[\"name\"] == \"Colombia\"), None)"
   ]
  },
  {
   "cell_type": "code",
   "execution_count": 25,
   "metadata": {},
   "outputs": [
    {
     "data": {
      "text/plain": [
       "True"
      ]
     },
     "execution_count": 25,
     "metadata": {},
     "output_type": "execute_result"
    }
   ],
   "source": [
    "s is None"
   ]
  },
  {
   "cell_type": "code",
   "execution_count": 28,
   "metadata": {},
   "outputs": [
    {
     "data": {
      "text/plain": [
       "{'default_currency_id': 'COP', 'id': 'MCO', 'name': 'Colombia'}"
      ]
     },
     "execution_count": 28,
     "metadata": {},
     "output_type": "execute_result"
    }
   ],
   "source": [
    "s"
   ]
  },
  {
   "cell_type": "code",
   "execution_count": 29,
   "metadata": {},
   "outputs": [],
   "source": [
    "url = 'https://api.mercadolibre.com/sites/MCO/categories'"
   ]
  },
  {
   "cell_type": "code",
   "execution_count": 30,
   "metadata": {},
   "outputs": [],
   "source": [
    "r = requests.get(url = url)"
   ]
  },
  {
   "cell_type": "code",
   "execution_count": 31,
   "metadata": {},
   "outputs": [],
   "source": [
    "output_list = r.json()"
   ]
  },
  {
   "cell_type": "code",
   "execution_count": 36,
   "metadata": {},
   "outputs": [
    {
     "data": {
      "text/plain": [
       "{'MCO1747': 'Accesorios para Vehículos',\n",
       " 'MCO441917': 'Agro',\n",
       " 'MCO1403': 'Alimentos y Bebidas',\n",
       " 'MCO1071': 'Animales y Mascotas',\n",
       " 'MCO1367': 'Antigüedades y Colecciones',\n",
       " 'MCO1368': 'Arte, Papelería y Mercería',\n",
       " 'MCO1384': 'Bebés',\n",
       " 'MCO1246': 'Belleza y Cuidado Personal',\n",
       " 'MCO40433': 'Boletas para Espectáculos',\n",
       " 'MCO1039': 'Cámaras y Accesorios',\n",
       " 'MCO1743': 'Carros, Motos y Otros',\n",
       " 'MCO1051': 'Celulares y Teléfonos',\n",
       " 'MCO1648': 'Computación',\n",
       " 'MCO1144': 'Consolas y Videojuegos',\n",
       " 'MCO1276': 'Deportes y Fitness',\n",
       " 'MCO5726': 'Electrodomésticos',\n",
       " 'MCO1000': 'Electrónica, Audio y Video',\n",
       " 'MCO175794': 'Herramientas y Construcción',\n",
       " 'MCO1574': 'Hogar y Muebles',\n",
       " 'MCO1499': 'Industrias y Oficinas',\n",
       " 'MCO1459': 'Inmuebles',\n",
       " 'MCO1182': 'Instrumentos Musicales',\n",
       " 'MCO1132': 'Juegos y Juguetes',\n",
       " 'MCO3025': 'Libros, Revistas y Comics',\n",
       " 'MCO1168': 'Música, Películas y Series',\n",
       " 'MCO118204': 'Recuerdos, Piñatería y Fiestas',\n",
       " 'MCO3937': 'Relojes y Joyas',\n",
       " 'MCO1430': 'Ropa y Accesorios',\n",
       " 'MCO180800': 'Salud y Equipamiento Médico',\n",
       " 'MCO1540': 'Servicios',\n",
       " 'MCO1953': 'Otras categorías'}"
      ]
     },
     "execution_count": 36,
     "metadata": {},
     "output_type": "execute_result"
    }
   ],
   "source": [
    "{output_list[i]['id']: output_list[i]['name'] \n",
    "             for i in range(len(output_list))}"
   ]
  },
  {
   "cell_type": "code",
   "execution_count": 34,
   "metadata": {},
   "outputs": [
    {
     "data": {
      "text/plain": [
       "{'id': 'name'}"
      ]
     },
     "execution_count": 34,
     "metadata": {},
     "output_type": "execute_result"
    }
   ],
   "source": [
    "dict(output_list)"
   ]
  },
  {
   "cell_type": "code",
   "execution_count": null,
   "metadata": {},
   "outputs": [],
   "source": []
  }
 ],
 "metadata": {
  "kernelspec": {
   "display_name": "Python 3",
   "language": "python",
   "name": "python3"
  },
  "language_info": {
   "codemirror_mode": {
    "name": "ipython",
    "version": 3
   },
   "file_extension": ".py",
   "mimetype": "text/x-python",
   "name": "python",
   "nbconvert_exporter": "python",
   "pygments_lexer": "ipython3",
   "version": "3.8.5"
  }
 },
 "nbformat": 4,
 "nbformat_minor": 4
}
