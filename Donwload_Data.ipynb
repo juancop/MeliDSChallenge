{
 "cells": [
  {
   "cell_type": "code",
   "execution_count": 1,
   "metadata": {},
   "outputs": [],
   "source": [
    "from src import meliRetriever, getAPIkey"
   ]
  },
  {
   "cell_type": "code",
   "execution_count": 2,
   "metadata": {},
   "outputs": [
    {
     "name": "stdout",
     "output_type": "stream",
     "text": [
      "https://www.mercadolibre.com/jms/mco/lgz/login/?go=https%3A%2F%2Fauth.mercadolibre.com.co%2Fauthorization%3Fresponse_type%3Dcode%26client_id%3D4892726125387151%26redirect_uri%3Dhttps%253A%252F%252Fwww.mercadolibre.com.co%252F&platform_id=ml&application_id=4892726125387151\n",
      "Please write the code:········\n"
     ]
    }
   ],
   "source": [
    "get_token = getAPIkey()"
   ]
  },
  {
   "cell_type": "code",
   "execution_count": 3,
   "metadata": {},
   "outputs": [],
   "source": [
    "dff = meliRetriever(site_name = 'Colombia', token = get_token.api_key, keep_individual_memory = False)"
   ]
  },
  {
   "cell_type": "code",
   "execution_count": 4,
   "metadata": {
    "scrolled": true
   },
   "outputs": [
    {
     "name": "stderr",
     "output_type": "stream",
     "text": [
      "[Parallel(n_jobs=-1)]: Using backend MultiprocessingBackend with 8 concurrent workers.\n",
      "[Parallel(n_jobs=-1)]: Done   2 tasks      | elapsed:    0.2s\n",
      "[Parallel(n_jobs=-1)]: Done  23 out of  31 | elapsed: 326.8min remaining: 113.7min\n",
      "[Parallel(n_jobs=-1)]: Done  31 out of  31 | elapsed: 360.7min finished\n"
     ]
    }
   ],
   "source": [
    "dff.create_dataset(file_name = 'data/ColombianData.csv', products_per_category = 10000)"
   ]
  },
  {
   "cell_type": "code",
   "execution_count": null,
   "metadata": {},
   "outputs": [],
   "source": []
  }
 ],
 "metadata": {
  "kernelspec": {
   "display_name": "Python 3",
   "language": "python",
   "name": "python3"
  },
  "language_info": {
   "codemirror_mode": {
    "name": "ipython",
    "version": 3
   },
   "file_extension": ".py",
   "mimetype": "text/x-python",
   "name": "python",
   "nbconvert_exporter": "python",
   "pygments_lexer": "ipython3",
   "version": "3.8.5"
  }
 },
 "nbformat": 4,
 "nbformat_minor": 4
}
